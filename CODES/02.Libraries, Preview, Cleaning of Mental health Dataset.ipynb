{
 "cells": [
  {
   "cell_type": "code",
   "execution_count": null,
   "id": "f0e228ea",
   "metadata": {},
   "outputs": [],
   "source": [
    "<h1><font color='green'>Essential Library</font></h1>"
   ]
  },
  {
   "cell_type": "code",
   "execution_count": null,
   "id": "d3d5b559",
   "metadata": {},
   "outputs": [],
   "source": [
    "import time\n",
    "import numpy as np\n",
    "import pandas as pd\n",
    "from matplotlib import pyplot as plt\n",
    "import seaborn as se"
   ]
  },
  {
   "cell_type": "code",
   "execution_count": null,
   "id": "1498cf18",
   "metadata": {},
   "outputs": [],
   "source": [
    "<h1><font color='green'>Lets add style to our plots</font></h1>\n",
    "plt.style.use('fivethirtyeight')"
   ]
  },
  {
   "cell_type": "code",
   "execution_count": null,
   "id": "06904a27",
   "metadata": {},
   "outputs": [],
   "source": [
    "<h1><font color='green'>Loading Data...</font></h1>\n",
    "data = pd.read_csv('01.Mental Health.csv')\n",
    "data"
   ]
  },
  {
   "cell_type": "code",
   "execution_count": null,
   "id": "993c1a5f",
   "metadata": {},
   "outputs": [],
   "source": [
    "<h1><font color='green'>Column's name replacement</font></h1>\n",
    "<h4>its very hard to work with this kind of colums lets replaced it with some good names</h4>"
   ]
  },
  {
   "cell_type": "code",
   "execution_count": null,
   "id": "eeca2e31",
   "metadata": {},
   "outputs": [],
   "source": [
    "renamed_columns = ['self_empl_flag', 'comp_no_empl', 'tech_comp_flag', 'tech_role_flag', 'mh_coverage_flag', 'mh_coverage_awareness_flag', 'mh_employer_discussion', \n",
    "    'mh_resources_provided', 'mh_anonimity_flag', 'mh_medical_leave', 'mh_discussion_neg_impact', 'ph_discussion_neg_impact', 'mh_discussion_cowork', 'mh_discussion_supervis', \n",
    "    'mh_eq_ph_employer', 'mh_conseq_coworkers', 'mh_coverage_flag2', 'mh_online_res_flag', 'mh_diagnosed&reveal_clients_flag', 'mh_diagnosed&reveal_clients_impact', 'mh_diagnosed&reveal_cowork_flag', \n",
    "    'mh_cowork_reveal_neg_impact', 'mh_prod_impact', 'mh_prod_impact_perc', 'prev_employers_flag', 'prev_mh_benefits', 'prev_mh_benefits_awareness', 'prev_mh_discussion', 'prev_mh_resources', \n",
    "    'prev_mh_anonimity', 'prev_mh_discuss_neg_conseq', 'prev_ph_discuss_neg_conseq', 'prev_mh_discussion_cowork', 'prev_mh_discussion_supervisor', 'prev_mh_importance_employer', \n",
    "    'prev_mh_conseq_coworkers', 'future_ph_specification', 'why/why_not', 'future_mh_specification', 'why/why_not2', 'mh_hurt_on_career', 'mh_neg_view_cowork', 'mh_sharing_friends/fam_flag', \n",
    "    'mh_bad_response_workplace', 'mh_for_others_bad_response_workplace', 'mh_family_hist', 'mh_disorder_past', 'mh_disorder_current', 'yes:what_diagnosis?', 'maybe:whats_your_diag', \n",
    "    'mh_diagnos_proffesional', 'yes:condition_diagnosed', 'mh_sought_proffes_treatm', 'mh_eff_treat_impact_on_work', 'mh_not_eff_treat_impact_on_work', 'age', 'sex', 'country_live', \n",
    "    'live_us_teritory', 'country_work', 'work_us_teritory', 'work_position', 'remote_flag']"
   ]
  },
  {
   "cell_type": "code",
   "execution_count": null,
   "id": "93c16610",
   "metadata": {},
   "outputs": [],
   "source": [
    "data.columns = renamed_columns\n",
    "data.shape"
   ]
  },
  {
   "cell_type": "code",
   "execution_count": null,
   "id": "a27f1690",
   "metadata": {},
   "outputs": [],
   "source": [
    "<h4>Lets look at null values with respect to columns</h4>\n",
    "plt.figure(figsize = (12,8))\n",
    "se.heatmap(data.isnull())\n",
    "temp1 = data.isnull().sum()\n",
    "temp1"
   ]
  },
  {
   "cell_type": "code",
   "execution_count": null,
   "id": "eaa3869b",
   "metadata": {},
   "outputs": [],
   "source": [
    "<h4>its seems like our data set has null values lets visualize it</h4>\n",
    "plt.figure(figsize = (12,8))\n",
    "plt.plot(range(len(temp1.values)),[292]*len(temp1.values), alpha = 0.5, linewidth = 1.8, color = 'green')\n",
    "plt.scatter(range(len(temp1.values)),temp1.values,alpha = 0.8,color = 'red')"
   ]
  },
  {
   "cell_type": "code",
   "execution_count": null,
   "id": "61b13698",
   "metadata": {},
   "outputs": [],
   "source": [
    "<h1><font color='green'>Lets handle missing data</font></h1>"
   ]
  },
  {
   "cell_type": "code",
   "execution_count": null,
   "id": "748e8aaf",
   "metadata": {},
   "outputs": [],
   "source": [
    "for c in range(len(temp1.values)):\n",
    "    if temp1.values[c] > 292:\n",
    "        data.drop(axis = 1, columns = [renamed_columns[c]], inplace = True)"
   ]
  }
 ],
 "metadata": {},
 "nbformat": 4,
 "nbformat_minor": 5
}
