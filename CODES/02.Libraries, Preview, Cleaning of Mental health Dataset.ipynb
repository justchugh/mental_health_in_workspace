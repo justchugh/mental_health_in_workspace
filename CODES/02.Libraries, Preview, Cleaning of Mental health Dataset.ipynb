{
 "cells": [
  {
   "cell_type": "code",
   "execution_count": null,
   "id": "47875029",
   "metadata": {},
   "outputs": [],
   "source": [
    "<h1><font color='green'>Essential Library</font></h1>"
   ]
  },
  {
   "cell_type": "code",
   "execution_count": null,
   "id": "e4be195d",
   "metadata": {},
   "outputs": [],
   "source": [
    "import time\n",
    "import numpy as np\n",
    "import pandas as pd\n",
    "from matplotlib import pyplot as plt\n",
    "import seaborn as sns"
   ]
  },
  {
   "cell_type": "code",
   "execution_count": null,
   "id": "4f1fc929",
   "metadata": {},
   "outputs": [],
   "source": [
    "<h1><font color='green'>Lets add style to our plots</font></h1>\n",
    "plt.style.use('fivethirtyeight')"
   ]
  },
  {
   "cell_type": "code",
   "execution_count": null,
   "id": "e845ab15",
   "metadata": {},
   "outputs": [],
   "source": [
    "<h1><font color='green'>Loading Data...</font></h1>\n",
    "data = pd.read_csv('01.Mental Health.csv')\n",
    "data"
   ]
  },
  {
   "cell_type": "code",
   "execution_count": null,
   "id": "ecf4acc0",
   "metadata": {},
   "outputs": [],
   "source": [
    "<h1><font color='green'>Column's name replacement</font></h1>\n",
    "<h4>its very hard to work with this kind of colums lets replaced it with some good names</h4>"
   ]
  },
  {
   "cell_type": "code",
   "execution_count": null,
   "id": "a6f069aa",
   "metadata": {},
   "outputs": [],
   "source": [
    "renamed_columns = ['self_empl_flag', 'comp_no_empl', 'tech_comp_flag', 'tech_role_flag', 'mh_coverage_flag', 'mh_coverage_awareness_flag', 'mh_employer_discussion', \n",
    "    'mh_resources_provided', 'mh_anonimity_flag', 'mh_medical_leave', 'mh_discussion_neg_impact', 'ph_discussion_neg_impact', 'mh_discussion_cowork', 'mh_discussion_supervis', \n",
    "    'mh_eq_ph_employer', 'mh_conseq_coworkers', 'mh_coverage_flag2', 'mh_online_res_flag', 'mh_diagnosed&reveal_clients_flag', 'mh_diagnosed&reveal_clients_impact', 'mh_diagnosed&reveal_cowork_flag', \n",
    "    'mh_cowork_reveal_neg_impact', 'mh_prod_impact', 'mh_prod_impact_perc', 'prev_employers_flag', 'prev_mh_benefits', 'prev_mh_benefits_awareness', 'prev_mh_discussion', 'prev_mh_resources', \n",
    "    'prev_mh_anonimity', 'prev_mh_discuss_neg_conseq', 'prev_ph_discuss_neg_conseq', 'prev_mh_discussion_cowork', 'prev_mh_discussion_supervisor', 'prev_mh_importance_employer', \n",
    "    'prev_mh_conseq_coworkers', 'future_ph_specification', 'why/why_not', 'future_mh_specification', 'why/why_not2', 'mh_hurt_on_career', 'mh_neg_view_cowork', 'mh_sharing_friends/fam_flag', \n",
    "    'mh_bad_response_workplace', 'mh_for_others_bad_response_workplace', 'mh_family_hist', 'mh_disorder_past', 'mh_disorder_current', 'yes:what_diagnosis?', 'maybe:whats_your_diag', \n",
    "    'mh_diagnos_proffesional', 'yes:condition_diagnosed', 'mh_sought_proffes_treatm', 'mh_eff_treat_impact_on_work', 'mh_not_eff_treat_impact_on_work', 'age', 'sex', 'country_live', \n",
    "    'live_us_teritory', 'country_work', 'work_us_teritory', 'work_position', 'remote_flag']"
   ]
  },
  {
   "cell_type": "code",
   "execution_count": null,
   "id": "c44bcb17",
   "metadata": {},
   "outputs": [],
   "source": [
    "data.columns = renamed_columns\n",
    "data.shape"
   ]
  },
  {
   "cell_type": "code",
   "execution_count": null,
   "id": "82307ea1",
   "metadata": {},
   "outputs": [],
   "source": [
    "<h4>Lets look at null values with respect to columns</h4>\n",
    "plt.figure(figsize = (12,8))\n",
    "sns.heatmap(data.isnull())\n",
    "temp1 = data.isnull().sum()\n",
    "temp1"
   ]
  },
  {
   "cell_type": "code",
   "execution_count": null,
   "id": "4a2f1d9b",
   "metadata": {},
   "outputs": [],
   "source": [
    "<h4>its seems like our data set has null values lets visualize it</h4>\n",
    "plt.figure(figsize = (12,8))\n",
    "plt.plot(range(len(temp1.values)),[292]*len(temp1.values), alpha = 0.5, linewidth = 1.8, color = 'green')\n",
    "plt.scatter(range(len(temp1.values)),temp1.values,alpha = 0.8,color = 'red')"
   ]
  },
  {
   "cell_type": "code",
   "execution_count": null,
   "id": "e5eedb68",
   "metadata": {},
   "outputs": [],
   "source": [
    "<h1><font color='green'>Lets handle missing data</font></h1>"
   ]
  },
  {
   "cell_type": "code",
   "execution_count": null,
   "id": "0eb65f29",
   "metadata": {},
   "outputs": [],
   "source": [
    "for c in range(len(temp1.values)):\n",
    "    if temp1.values[c] > 292:\n",
    "        data.drop(axis = 1, columns = [renamed_columns[c]], inplace = True)"
   ]
  },
  {
   "cell_type": "code",
   "execution_count": null,
   "id": "795594d4",
   "metadata": {},
   "outputs": [],
   "source": [
    "<h3><font color='orange'>on comp_no_empl column</font></h3>\n",
    "<h4>lets replace no of employees by convincing numbers</h4>"
   ]
  },
  {
   "cell_type": "code",
   "execution_count": null,
   "id": "a438f2d9",
   "metadata": {},
   "outputs": [],
   "source": [
    "data['comp_no_empl'] = data['comp_no_empl'].replace('1-5', 5)\n",
    "data['comp_no_empl'] = data['comp_no_empl'].replace('6-25',25)\n",
    "data['comp_no_empl'] = data['comp_no_empl'].replace('26-100', 100)\n",
    "data['comp_no_empl'] = data['comp_no_empl'].replace('100-500',500)\n",
    "data['comp_no_empl'] = data['comp_no_empl'].replace('500-1000',1000)\n",
    "data['comp_no_empl'] = data['comp_no_empl'].replace('More than 1000',5000)"
   ]
  },
  {
   "cell_type": "code",
   "execution_count": null,
   "id": "bb7339f9",
   "metadata": {},
   "outputs": [],
   "source": [
    "<h4>lets visualize the freq of our new class allocated to comp_no_empl</h4>\n",
    "sns.barplot(x=data['comp_no_empl'].value_counts().index,y = data['comp_no_empl'].value_counts().values,alpha=0.8)"
   ]
  },
  {
   "cell_type": "code",
   "execution_count": null,
   "id": "9ef6d283",
   "metadata": {},
   "outputs": [],
   "source": [
    "<font color = 'orange'><h3>on Gender column</h3></font>\n",
    "<h4>lets replace genders by grouping the genders into 3 categories: Female, Male, Genderqueer/Other</h4>"
   ]
  },
  {
   "cell_type": "code",
   "execution_count": null,
   "id": "7c3595ef",
   "metadata": {},
   "outputs": [],
   "source": [
    "data['sex'] = data['sex'].replace([\n",
    "    'male', 'Male ', 'M', 'm', 'man', 'Cis male',\n",
    "    'Male.', 'Male (cis)', 'Man', 'Sex is male',\n",
    "    'cis male', 'Malr', 'Dude', \"I'm a man why didn't you make this a drop down question. You should of asked sex? And I would of answered yes please. Seriously how much text can this take? \",\n",
    "    'mail', 'M|', 'male ', 'Cis Male', 'Male (trans, FtM)',\n",
    "    'cisdude', 'cis man', 'MALE'], 'Male')"
   ]
  },
  {
   "cell_type": "code",
   "execution_count": null,
   "id": "15ffc6b0",
   "metadata": {},
   "outputs": [],
   "source": [
    "data['sex'] = data['sex'].replace([\n",
    "    'female', 'I identify as female.', 'female ',\n",
    "    'Female assigned at birth ', 'F', 'Woman', 'fm', 'f',\n",
    "    'Cis female', 'Transitioned, M2F', 'Female or Multi-Gender Femme',\n",
    "    'Female ', 'woman', 'female/woman', 'Cisgender Female', \n",
    "    'mtf', 'fem', 'Female (props for making this a freeform field, though)',\n",
    "    ' Female', 'Cis-woman', 'AFAB', 'Transgender woman',\n",
    "    'Cis female '], 'Female')"
   ]
  },
  {
   "cell_type": "code",
   "execution_count": null,
   "id": "e0bdac4c",
   "metadata": {},
   "outputs": [],
   "source": [
    "data['sex'] = data['sex'].replace([\n",
    "    'Bigender', 'non-binary,', 'Genderfluid (born female)',\n",
    "    'Other/Transfeminine', 'Androgynous', 'male 9:1 female, roughly',\n",
    "    'nb masculine', 'genderqueer', 'Human', 'Genderfluid',\n",
    "    'Enby', 'genderqueer woman', 'Queer', 'Agender', 'Fluid',\n",
    "    'Genderflux demi-girl', 'female-bodied; no feelings about gender',\n",
    "    'non-binary', 'Male/genderqueer', 'Nonbinary', 'Other', 'none of your business',\n",
    "    'Unicorn', 'human', 'Genderqueer'], 'Genderqueer/Other')"
   ]
  },
  {
   "cell_type": "code",
   "execution_count": null,
   "id": "a8dddde7",
   "metadata": {},
   "outputs": [],
   "source": [
    "data.sex.value_counts().plot.pie()"
   ]
  },
  {
   "cell_type": "code",
   "execution_count": null,
   "id": "a2ee8bf9",
   "metadata": {},
   "outputs": [],
   "source": [
    "<h1><font color='green'>Lets visualize data</font></h1>\n",
    "plt.figure(figsize = (25,12))\n",
    "sns.barplot(data['age'].value_counts().index, data['age'].value_counts().values)"
   ]
  }
 ],
 "metadata": {},
 "nbformat": 4,
 "nbformat_minor": 5
}
