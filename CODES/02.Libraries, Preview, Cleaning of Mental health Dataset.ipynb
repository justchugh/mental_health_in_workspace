{
 "cells": [
  {
   "cell_type": "code",
   "execution_count": null,
   "id": "84d78554",
   "metadata": {},
   "outputs": [],
   "source": [
    "<h1><font color='green'>this font is for main task</font></h1>"
   ]
  },
  {
   "cell_type": "code",
   "execution_count": null,
   "id": "ed4454f0",
   "metadata": {},
   "outputs": [],
   "source": [
    "<h3><font color='red'>this font is for function</font></h3>"
   ]
  },
  {
   "cell_type": "code",
   "execution_count": null,
   "id": "f7e3d6d5",
   "metadata": {},
   "outputs": [],
   "source": [
    "<h4><font color='orange'>this font is for main columns</font></h3>"
   ]
  },
  {
   "cell_type": "code",
   "execution_count": null,
   "id": "fbb462d5",
   "metadata": {},
   "outputs": [],
   "source": [
    "<h4>comment</h4>"
   ]
  },
  {
   "cell_type": "code",
   "execution_count": null,
   "id": "1363f6eb",
   "metadata": {},
   "outputs": [],
   "source": [
    "import random\n",
    "import numpy as np\n",
    "from matplotlib import pyplot as plt\n",
    "import seaborn as sns"
   ]
  },
  {
   "cell_type": "code",
   "execution_count": null,
   "id": "0f8e9949",
   "metadata": {},
   "outputs": [],
   "source": [
    "<h1><font color='green'>Loading Data...</font></h1>\n",
    "data = pd.DataFrame({'A': np.random.rand(10), 'B': np.random.rand(10)})\n",
    "data"
   ]
  },
  {
   "cell_type": "code",
   "execution_count": null,
   "id": "3b33512d",
   "metadata": {},
   "outputs": [],
   "source": [
    "<h1><font color='green'>Lets add style to our plots</font></h1>\n",
    "plt.style.use('fivethirtyeight')"
   ]
  },
  {
   "cell_type": "code",
   "execution_count": null,
   "id": "25fa5196",
   "metadata": {},
   "outputs": [],
   "source": [
    "<h1><font color='green'>Column's name replacement</font></h1>\n",
    "<h4>its very hard to work with this kind of colums lets replaced it with some good names</h4>"
   ]
  },
  {
   "cell_type": "code",
   "execution_count": null,
   "id": "f236ea6e",
   "metadata": {},
   "outputs": [],
   "source": [
    "renamed_columns = ['col1', 'col2']\n",
    "data.columns = renamed_columns\n",
    "data.shape"
   ]
  },
  {
   "cell_type": "code",
   "execution_count": null,
   "id": "9e2146bf",
   "metadata": {},
   "outputs": [],
   "source": [
    "<h4>Lets look at null values with respect to columns</h4>\n",
    "plt.figure(figsize = (10,5))\n",
    "sns.heatmap(data.isnull())\n",
    "null_counts = data.isnull().sum()\n",
    "null_counts"
   ]
  },
  {
   "cell_type": "code",
   "execution_count": null,
   "id": "91301365",
   "metadata": {},
   "outputs": [],
   "source": [
    "<h4>its seems like our data set has null values lets visualize it</h4>\n",
    "plt.figure(figsize = (8,6))\n",
    "plt.plot(range(len(null_counts.values)),[5]*len(null_counts.values), alpha = 0.5, linewidth = 1.8, color = 'green')\n",
    "plt.scatter(range(len(null_counts.values)),null_counts.values,alpha = 0.8,color = 'red')"
   ]
  },
  {
   "cell_type": "code",
   "execution_count": null,
   "id": "53f73231",
   "metadata": {},
   "outputs": [],
   "source": [
    "<h4>points above green line shows the null entry more than 5 entries are null which is lot...</h4>"
   ]
  },
  {
   "cell_type": "code",
   "execution_count": null,
   "id": "30eb8b51",
   "metadata": {},
   "outputs": [],
   "source": [
    "<h1><font color='green'>lets get rid off some giant number of null entries</font></h1>\n",
    "for c in range(len(null_counts.values)):\n",
    "    if null_counts.values[c] > 5:\n",
    "        data.drop(axis = 1, columns = [renamed_columns[c]], inplace = True)"
   ]
  },
  {
   "cell_type": "code",
   "execution_count": null,
   "id": "651b9202",
   "metadata": {},
   "outputs": [],
   "source": [
    "<h4>so in above code we just drop respective columns which has more than 5 null entries lets visualize it again</h4>\n",
    "null_counts = data.isnull().sum()\n",
    "null_counts\n",
    "plt.figure(figsize = (8,6))\n",
    "plt.ylim((-1,10))\n",
    "plt.plot(range(len(null_counts.values)),[5]*len(null_counts.values), alpha = 0.5, linewidth = 1.8, color = 'green')\n",
    "plt.scatter(range(len(null_counts.values)),null_counts.values,alpha = 0.8,color = 'red')\n",
    "plt.figure(figsize = (10,5))\n",
    "sns.heatmap(data.isnull())"
   ]
  },
  {
   "cell_type": "code",
   "execution_count": null,
   "id": "605c2bfd",
   "metadata": {},
   "outputs": [],
   "source": [
    "<h1><font color='green'>Now lets look some replacement for data in terms of duplication, </font></h1>\n",
    "<h3><font color='brown'>function for printing the unique values</h3>"
   ]
  },
  {
   "cell_type": "code",
   "execution_count": null,
   "id": "4fce0818",
   "metadata": {},
   "outputs": [],
   "source": [
    "def unique_values_in_columns(df):\n",
    "    for c in df.columns:\n",
    "        print(c,':',df[c].unique())"
   ]
  },
  {
   "cell_type": "code",
   "execution_count": null,
   "id": "9834e43d",
   "metadata": {},
   "outputs": [],
   "source": [
    "<h3><font color='brown'>function for printing the unique object values</h3>"
   ]
  },
  {
   "cell_type": "code",
   "execution_count": null,
   "id": "14c5a56a",
   "metadata": {},
   "outputs": [],
   "source": [
    "def unique_object_values_in_columns(df):\n",
    "    for c in df.columns:\n",
    "        if df[c].dtypes == 'object':\n",
    "            print(c,':',df[c].unique())"
   ]
  },
  {
   "cell_type": "code",
   "execution_count": null,
   "id": "52bdb52a",
   "metadata": {},
   "outputs": [],
   "source": [
    "<h4>lets look unique value in column</h4>\n",
    "unique_values_in_columns(data)"
   ]
  },
  {
   "cell_type": "code",
   "execution_count": null,
   "id": "7ba1726c",
   "metadata": {},
   "outputs": [],
   "source": [
    "<h3><font color='orange'>on col1 column</font></h3>\n",
    "<h4>lets replace values by convincing numbers</h4>"
   ]
  },
  {
   "cell_type": "code",
   "execution_count": null,
   "id": "d2eb4359",
   "metadata": {},
   "outputs": [],
   "source": [
    "data['col1'] = data['col1'].replace(0.5, 0)"
   ]
  },
  {
   "cell_type": "code",
   "execution_count": null,
   "id": "cc9d810f",
   "metadata": {},
   "outputs": [],
   "source": [
    "<h4>lets visualize the freq of our new class allocated to col1</h4>\n",
    "sns.barplot(x=data['col1'].value_counts().index, y=data['col1'].value_counts().values, alpha=0.8)"
   ]
  },
  {
   "cell_type": "code",
   "execution_count": null,
   "id": "ad83eb75",
   "metadata": {},
   "outputs": [],
   "source": [
    "<h3><font color='orange'>on col2 column</font></h3>\n",
    "<h4>lets replace values by grouping into categories</h4>"
   ]
  },
  {
   "cell_type": "code",
   "execution_count": null,
   "id": "74ee77b4",
   "metadata": {},
   "outputs": [],
   "source": [
    "data['col2'] = data['col2'].replace([0.2, 0.4], 'low')\n",
    "data['col2'] = data['col2'].replace([0.6, 0.8], 'high')"
   ]
  },
  {
   "cell_type": "code",
   "execution_count": null,
   "id": "dfac030d",
   "metadata": {},
   "outputs": [],
   "source": [
    "<h4>lets visualize the freq of our new class allocated to col2</h4>\n",
    "sns.barplot(x=data['col2'].value_counts().index, y=data['col2'].value_counts().values, alpha=0.8)"
   ]
  }
 ],
 "metadata": {},
 "nbformat": 4,
 "nbformat_minor": 5
}
