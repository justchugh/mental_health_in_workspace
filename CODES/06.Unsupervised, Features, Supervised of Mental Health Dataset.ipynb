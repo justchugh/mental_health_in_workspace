{
 "cells": [
  {
   "cell_type": "markdown",
   "id": "06d3bd62",
   "metadata": {},
   "source": [
    "<h1><font color='green'>Setup and Libraries</font></h1>"
   ]
  },
  {
   "cell_type": "code",
   "execution_count": null,
   "id": "0be02e44",
   "metadata": {},
   "outputs": [],
   "source": [
    "import numpy as np\n",
    "import pandas as pd\n",
    "import matplotlib.pyplot as plt\n",
    "import seaborn as sns\n",
    "from sklearn.cluster import KMeans\n",
    "from sklearn.ensemble import RandomForestClassifier\n",
    "from sklearn.metrics import silhouette_score, silhouette_samples, classification_report\n",
    "from sklearn.model_selection import train_test_split"
   ]
  },
  {
   "cell_type": "markdown",
   "id": "4c7eaa41",
   "metadata": {},
   "source": [
    "<h1><font color='green'>Load Data</font></h1>"
   ]
  },
  {
   "cell_type": "code",
   "execution_count": null,
   "id": "61afa627",
   "metadata": {},
   "outputs": [],
   "source": [
    "# Placeholder for loading data\n",
    "data = pd.DataFrame({\n",
    "    'feature1': np.random.rand(250),\n",
    "    'feature2': np.random.rand(250),\n",
    "    'feature3': np.random.rand(250),\n",
    "    'label': np.random.randint(0, 4, 250)\n",
    "})\n",
    "data.head()"
   ]
  },
  {
   "cell_type": "markdown",
   "id": "030578c3",
   "metadata": {},
   "source": [
    "<h1><font color='green'>Data Exploration</font></h1>"
   ]
  },
  {
   "cell_type": "code",
   "execution_count": null,
   "id": "b681f22e",
   "metadata": {},
   "outputs": [],
   "source": [
    "data.info()"
   ]
  },
  {
   "cell_type": "code",
   "execution_count": null,
   "id": "1ab7257b",
   "metadata": {},
   "outputs": [],
   "source": [
    "data.describe()"
   ]
  },
  {
   "cell_type": "markdown",
   "id": "d6d88848",
   "metadata": {},
   "source": [
    "<h1><font color='green'>Pairplot and Correlation</font></h1>"
   ]
  },
  {
   "cell_type": "code",
   "execution_count": null,
   "id": "2aa0a961",
   "metadata": {},
   "outputs": [],
   "source": [
    "sns.pairplot(data, hue='label')\n",
    "plt.show()"
   ]
  },
  {
   "cell_type": "code",
   "execution_count": null,
   "id": "468e48b3",
   "metadata": {},
   "outputs": [],
   "source": [
    "corr_matrix = data.corr()\n",
    "plt.figure(figsize=(10, 8))\n",
    "sns.heatmap(corr_matrix, annot=True, cmap='coolwarm')\n",
    "plt.show()"
   ]
  },
  {
   "cell_type": "markdown",
   "id": "d9b3d5e2",
   "metadata": {},
   "source": [
    "<h1><font color='green'>KMeans Clustering</font></h1>"
   ]
  },
  {
   "cell_type": "code",
   "execution_count": null,
   "id": "1d429986",
   "metadata": {},
   "outputs": [],
   "source": [
    "clusters = 10\n",
    "inertias = []\n",
    "sil_scores = []\n",
    "\n",
    "for cluster in range(2, clusters+1):\n",
    "    kmeans = KMeans(n_clusters=cluster, random_state=42)\n",
    "    y_kmeans = kmeans.fit_predict(data[['feature1', 'feature2', 'feature3']])\n",
    "    inertias.append(kmeans.inertia_)\n",
    "    sil_scores.append(silhouette_score(data[['feature1', 'feature2', 'feature3']], y_kmeans))\n",
    "\n",
    "plt.figure(figsize=(12, 6))\n",
    "plt.plot(range(2, clusters+1), inertias, marker='o', linestyle='--')\n",
    "plt.xlabel('Number of clusters')\n",
    "plt.ylabel('Inertia')\n",
    "plt.title('Elbow Method')\n",
    "plt.show()\n",
    "\n",
    "plt.figure(figsize=(12, 6))\n",
    "plt.plot(range(2, clusters+1), sil_scores, marker='o', linestyle='--')\n",
    "plt.xlabel('Number of clusters')\n",
    "plt.ylabel('Silhouette Score')\n",
    "plt.title('Silhouette Method')\n",
    "plt.show()"
   ]
  },
  {
   "cell_type": "markdown",
   "id": "5970828e",
   "metadata": {},
   "source": [
    "<h1><font color='green'>Final Clustering</font></h1>"
   ]
  },
  {
   "cell_type": "code",
   "execution_count": null,
   "id": "59526173",
   "metadata": {},
   "outputs": [],
   "source": [
    "kmeans = KMeans(n_clusters=4, random_state=42)\n",
    "data['cluster'] = kmeans.fit_predict(data[['feature1', 'feature2', 'feature3']])\n",
    "sns.scatterplot(x='feature1', y='feature2', hue='cluster', data=data, palette='viridis')\n",
    "plt.title('KMeans Clustering')\n",
    "plt.show()"
   ]
  },
  {
   "cell_type": "markdown",
   "id": "e4de444f",
   "metadata": {},
   "source": [
    "<h1><font color='green'>Feature Selection and Random Forest Classifier</font></h1>"
   ]
  },
  {
   "cell_type": "code",
   "execution_count": null,
   "id": "ec9106eb",
   "metadata": {},
   "outputs": [],
   "source": [
    "# Splitting data into features and labels\n",
    "X = data[['feature1', 'feature2', 'feature3']]\n",
    "y = data['label']\n",
    "\n",
    "# Train-test split\n",
    "X_train, X_test, y_train, y_test = train_test_split(X, y, test_size=0.2, random_state=42)\n",
    "\n",
    "# Random Forest Classifier\n",
    "rf = RandomForestClassifier(n_estimators=100, random_state=42)\n",
    "rf.fit(X_train, y_train)\n",
    "y_pred = rf.predict(X_test)\n",
    "\n",
    "# Evaluation\n",
    "print(classification_report(y_test, y_pred))\n",
    "\n",
    "# Feature importance\n",
    "importances = rf.feature_importances_\n",
    "features = X.columns\n",
    "indices = np.argsort(importances)[::-1]\n",
    "\n",
    "plt.figure(figsize=(10, 6))\n",
    "plt.title('Feature Importances')\n",
    "plt.bar(range(X.shape[1]), importances[indices], align='center')\n",
    "plt.xticks(range(X.shape[1]), [features[i] for i in indices], rotation=90)\n",
    "plt.tight_layout()\n",
    "plt.show()"
   ]
  }
 ],
 "metadata": {},
 "nbformat": 4,
 "nbformat_minor": 5
}
