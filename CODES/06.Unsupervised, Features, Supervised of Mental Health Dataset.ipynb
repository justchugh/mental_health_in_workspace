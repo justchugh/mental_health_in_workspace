{
 "cells": [
  {
   "cell_type": "markdown",
   "id": "7aee35dc",
   "metadata": {},
   "source": [
    "<h1><font color='green'>Setup and Libraries</font></h1>"
   ]
  },
  {
   "cell_type": "code",
   "execution_count": null,
   "id": "971d5776",
   "metadata": {},
   "outputs": [],
   "source": [
    "import numpy as np\n",
    "import pandas as pd\n",
    "import matplotlib.pyplot as plt\n",
    "import seaborn as sns"
   ]
  },
  {
   "cell_type": "markdown",
   "id": "df64e37e",
   "metadata": {},
   "source": [
    "<h1><font color='green'>Load Data</font></h1>"
   ]
  },
  {
   "cell_type": "code",
   "execution_count": null,
   "id": "879c9d18",
   "metadata": {},
   "outputs": [],
   "source": [
    "# Placeholder for loading different data structure\n",
    "data = pd.DataFrame({\n",
    "    'feature1': np.random.rand(150),\n",
    "    'feature2': np.random.rand(150),\n",
    "    'feature3': np.random.rand(150),\n",
    "    'label': np.random.randint(0, 3, 150)\n",
    "})\n",
    "data.head()"
   ]
  },
  {
   "cell_type": "markdown",
   "id": "c9669c26",
   "metadata": {},
   "source": [
    "<h1><font color='green'>Initial Data Exploration</font></h1>"
   ]
  },
  {
   "cell_type": "code",
   "execution_count": null,
   "id": "450c4c0d",
   "metadata": {},
   "outputs": [],
   "source": [
    "data.info()"
   ]
  },
  {
   "cell_type": "code",
   "execution_count": null,
   "id": "ac9a0591",
   "metadata": {},
   "outputs": [],
   "source": [
    "data.describe()"
   ]
  },
  {
   "cell_type": "markdown",
   "id": "a59bf174",
   "metadata": {},
   "source": [
    "<h1><font color='green'>Pairplot Visualization</font></h1>"
   ]
  },
  {
   "cell_type": "code",
   "execution_count": null,
   "id": "a85dca3e",
   "metadata": {},
   "outputs": [],
   "source": [
    "sns.pairplot(data, hue='label')\n",
    "plt.show()"
   ]
  },
  {
   "cell_type": "markdown",
   "id": "cc150945",
   "metadata": {},
   "source": [
    "<h1><font color='green'>Correlation Matrix</font></h1>"
   ]
  },
  {
   "cell_type": "code",
   "execution_count": null,
   "id": "849ee489",
   "metadata": {},
   "outputs": [],
   "source": [
    "corr_matrix = data.corr()\n",
    "plt.figure(figsize=(10, 8))\n",
    "sns.heatmap(corr_matrix, annot=True, cmap='coolwarm')\n",
    "plt.show()"
   ]
  }
 ],
 "metadata": {},
 "nbformat": 4,
 "nbformat_minor": 5
}
