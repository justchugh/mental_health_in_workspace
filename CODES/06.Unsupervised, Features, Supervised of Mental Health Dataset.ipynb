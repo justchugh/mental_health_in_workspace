{
 "cells": [
  {
   "cell_type": "markdown",
   "id": "9dffa24d",
   "metadata": {},
   "source": [
    "<h1><font color='green'>Initial Setup</font></h1>"
   ]
  },
  {
   "cell_type": "code",
   "execution_count": null,
   "id": "2748204e",
   "metadata": {},
   "outputs": [],
   "source": [
    "import numpy as np\n",
    "import pandas as pd"
   ]
  },
  {
   "cell_type": "markdown",
   "id": "302e5f7a",
   "metadata": {},
   "source": [
    "<h1><font color='green'>Load Data</font></h1>"
   ]
  },
  {
   "cell_type": "code",
   "execution_count": null,
   "id": "12b7c097",
   "metadata": {},
   "outputs": [],
   "source": [
    "# Placeholder code for loading data\n",
    "data = pd.DataFrame({\n",
    "    'feature1': np.random.rand(100),\n",
    "    'feature2': np.random.rand(100),\n",
    "    'label': np.random.randint(0, 2, 100)\n",
    "})\n",
    "data.head()"
   ]
  },
  {
   "cell_type": "markdown",
   "id": "cbb269c6",
   "metadata": {},
   "source": [
    "<h1><font color='green'>Basic Statistics</font></h1>"
   ]
  },
  {
   "cell_type": "code",
   "execution_count": null,
   "id": "38d85c0c",
   "metadata": {},
   "outputs": [],
   "source": [
    "data.describe()"
   ]
  },
  {
   "cell_type": "markdown",
   "id": "00871853",
   "metadata": {},
   "source": [
    "<h1><font color='green'>Visualization</font></h1>"
   ]
  },
  {
   "cell_type": "code",
   "execution_count": null,
   "id": "2e9b12bc",
   "metadata": {},
   "outputs": [],
   "source": [
    "import matplotlib.pyplot as plt\n",
    "plt.scatter(data['feature1'], data['feature2'], c=data['label'])\n",
    "plt.xlabel('Feature 1')\n",
    "plt.ylabel('Feature 2')\n",
    "plt.title('Scatter plot of feature1 vs feature2')\n",
    "plt.show()"
   ]
  }
 ],
 "metadata": {},
 "nbformat": 4,
 "nbformat_minor": 5
}
