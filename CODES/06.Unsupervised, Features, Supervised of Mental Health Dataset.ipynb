{
 "cells": [
  {
   "cell_type": "markdown",
   "id": "159ee709",
   "metadata": {},
   "source": [
    "<h1><font color='green'>Setup and Libraries</font></h1>"
   ]
  },
  {
   "cell_type": "code",
   "execution_count": null,
   "id": "23d0041d",
   "metadata": {},
   "outputs": [],
   "source": [
    "import numpy as np\n",
    "import pandas as pd\n",
    "import matplotlib.pyplot as plt\n",
    "import seaborn as sns\n",
    "from sklearn.cluster import KMeans\n",
    "from sklearn.ensemble import RandomForestClassifier\n",
    "from sklearn.metrics import silhouette_score, silhouette_samples, classification_report\n",
    "from sklearn.model_selection import train_test_split\n",
    "from sklearn.neighbors import KNeighborsClassifier\n",
    "from sklearn.svm import SVC\n",
    "from sklearn.decomposition import PCA"
   ]
  },
  {
   "cell_type": "markdown",
   "id": "ddb6d773",
   "metadata": {},
   "source": [
    "<h1><font color='green'>Load Data</font></h1>"
   ]
  },
  {
   "cell_type": "code",
   "execution_count": null,
   "id": "05fbe0ff",
   "metadata": {},
   "outputs": [],
   "source": [
    "# Placeholder for loading data\n",
    "data = pd.DataFrame({\n",
    "    'feature1': np.random.rand(400),\n",
    "    'feature2': np.random.rand(400),\n",
    "    'feature3': np.random.rand(400),\n",
    "    'label': np.random.randint(0, 4, 400)\n",
    "})\n",
    "data.head()"
   ]
  },
  {
   "cell_type": "markdown",
   "id": "cd9d43ab",
   "metadata": {},
   "source": [
    "<h1><font color='green'>Data Exploration</font></h1>"
   ]
  },
  {
   "cell_type": "code",
   "execution_count": null,
   "id": "2af45f5f",
   "metadata": {},
   "outputs": [],
   "source": [
    "data.info()"
   ]
  },
  {
   "cell_type": "code",
   "execution_count": null,
   "id": "0d3d536e",
   "metadata": {},
   "outputs": [],
   "source": [
    "data.describe()"
   ]
  },
  {
   "cell_type": "markdown",
   "id": "fb3da637",
   "metadata": {},
   "source": [
    "<h1><font color='green'>Pairplot and Correlation</font></h1>"
   ]
  },
  {
   "cell_type": "code",
   "execution_count": null,
   "id": "5562e76b",
   "metadata": {},
   "outputs": [],
   "source": [
    "sns.pairplot(data, hue='label')\n",
    "plt.show()"
   ]
  },
  {
   "cell_type": "code",
   "execution_count": null,
   "id": "8debc28e",
   "metadata": {},
   "outputs": [],
   "source": [
    "corr_matrix = data.corr()\n",
    "plt.figure(figsize=(10, 8))\n",
    "sns.heatmap(corr_matrix, annot=True, cmap='coolwarm')\n",
    "plt.show()"
   ]
  },
  {
   "cell_type": "markdown",
   "id": "99faf444",
   "metadata": {},
   "source": [
    "<h1><font color='green'>KMeans Clustering</font></h1>"
   ]
  },
  {
   "cell_type": "code",
   "execution_count": null,
   "id": "5728be22",
   "metadata": {},
   "outputs": [],
   "source": [
    "clusters = 10\n",
    "inertias = []\n",
    "sil_scores = []\n",
    "\n",
    "for cluster in range(2, clusters+1):\n",
    "    kmeans = KMeans(n_clusters=cluster, random_state=42)\n",
    "    y_kmeans = kmeans.fit_predict(data[['feature1', 'feature2', 'feature3']])\n",
    "    inertias.append(kmeans.inertia_)\n",
    "    sil_scores.append(silhouette_score(data[['feature1', 'feature2', 'feature3']], y_kmeans))\n",
    "\n",
    "plt.figure(figsize=(12, 6))\n",
    "plt.plot(range(2, clusters+1), inertias, marker='o', linestyle='--')\n",
    "plt.xlabel('Number of clusters')\n",
    "plt.ylabel('Inertia')\n",
    "plt.title('Elbow Method')\n",
    "plt.show()\n",
    "\n",
    "plt.figure(figsize=(12, 6))\n",
    "plt.plot(range(2, clusters+1), sil_scores, marker='o', linestyle='--')\n",
    "plt.xlabel('Number of clusters')\n",
    "plt.ylabel('Silhouette Score')\n",
    "plt.title('Silhouette Method')\n",
    "plt.show()"
   ]
  },
  {
   "cell_type": "markdown",
   "id": "f3147000",
   "metadata": {},
   "source": [
    "<h1><font color='green'>Final Clustering</font></h1>"
   ]
  },
  {
   "cell_type": "code",
   "execution_count": null,
   "id": "c69f364b",
   "metadata": {},
   "outputs": [],
   "source": [
    "kmeans = KMeans(n_clusters=4, random_state=42)\n",
    "data['cluster'] = kmeans.fit_predict(data[['feature1', 'feature2', 'feature3']])\n",
    "sns.scatterplot(x='feature1', y='feature2', hue='cluster', data=data, palette='viridis')\n",
    "plt.title('KMeans Clustering')\n",
    "plt.show()"
   ]
  },
  {
   "cell_type": "markdown",
   "id": "d0aff261",
   "metadata": {},
   "source": [
    "<h1><font color='green'>Feature Selection and Random Forest Classifier</font></h1>"
   ]
  },
  {
   "cell_type": "code",
   "execution_count": null,
   "id": "4b5f43ef",
   "metadata": {},
   "outputs": [],
   "source": [
    "# Splitting data into features and labels\n",
    "X = data[['feature1', 'feature2', 'feature3']]\n",
    "y = data['label']\n",
    "\n",
    "# Train-test split\n",
    "X_train, X_test, y_train, y_test = train_test_split(X, y, test_size=0.2, random_state=42)\n",
    "\n",
    "# Random Forest Classifier\n",
    "rf = RandomForestClassifier(n_estimators=100, random_state=42)\n",
    "rf.fit(X_train, y_train)\n",
    "y_pred = rf.predict(X_test)\n",
    "\n",
    "# Evaluation\n",
    "print(classification_report(y_test, y_pred))\n",
    "\n",
    "# Feature importance\n",
    "importances = rf.feature_importances_\n",
    "features = X.columns\n",
    "indices = np.argsort(importances)[::-1]\n",
    "\n",
    "plt.figure(figsize=(10, 6))\n",
    "plt.title('Feature Importances')\n",
    "plt.bar(range(X.shape[1]), importances[indices], align='center')\n",
    "plt.xticks(range(X.shape[1]), [features[i] for i in indices], rotation=90)\n",
    "plt.tight_layout()\n",
    "plt.show()"
   ]
  },
  {
   "cell_type": "markdown",
   "id": "a5a8cdb0",
   "metadata": {},
   "source": [
    "<h1><font color='green'>KNN Classifier</font></h1>"
   ]
  },
  {
   "cell_type": "code",
   "execution_count": null,
   "id": "9f6472e7",
   "metadata": {},
   "outputs": [],
   "source": [
    "# KNN Classifier\n",
    "knn = KNeighborsClassifier(n_neighbors=5)\n",
    "knn.fit(X_train, y_train)\n",
    "y_pred_knn = knn.predict(X_test)\n",
    "\n",
    "# Evaluation\n",
    "print(classification_report(y_test, y_pred_knn))"
   ]
  },
  {
   "cell_type": "markdown",
   "id": "372b2672",
   "metadata": {},
   "source": [
    "<h1><font color='green'>SVM Classifier</font></h1>"
   ]
  },
  {
   "cell_type": "code",
   "execution_count": null,
   "id": "a0946966",
   "metadata": {},
   "outputs": [],
   "source": [
    "# SVM Classifier\n",
    "svm = SVC(kernel='linear', random_state=42)\n",
    "svm.fit(X_train, y_train)\n",
    "y_pred_svm = svm.predict(X_test)\n",
    "\n",
    "# Evaluation\n",
    "print(classification_report(y_test, y_pred_svm))"
   ]
  },
  {
   "cell_type": "markdown",
   "id": "0e3d7aaf",
   "metadata": {},
   "source": [
    "<h1><font color='green'>PCA for Feature Reduction</font></h1>"
   ]
  },
  {
   "cell_type": "code",
   "execution_count": null,
   "id": "b5f36550",
   "metadata": {},
   "outputs": [],
   "source": [
    "# PCA for feature reduction\n",
    "pca = PCA(n_components=2)\n",
    "X_pca = pca.fit_transform(X)\n",
    "\n",
    "plt.figure(figsize=(12, 6))\n",
    "sns.scatterplot(x=X_pca[:, 0], y=X_pca[:, 1], hue=data['label'], palette='viridis')\n",
    "plt.title('PCA of Features')\n",
    "plt.show()"
   ]
  }
 ],
 "metadata": {},
 "nbformat": 4,
 "nbformat_minor": 5
}
