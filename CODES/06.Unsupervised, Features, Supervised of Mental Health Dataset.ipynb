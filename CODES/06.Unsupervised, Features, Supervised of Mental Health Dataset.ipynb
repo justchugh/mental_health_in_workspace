{
 "cells": [
  {
   "cell_type": "markdown",
   "id": "588e974d",
   "metadata": {},
   "source": [
    "<h1><font color='green'>Setup and Libraries</font></h1>"
   ]
  },
  {
   "cell_type": "code",
   "execution_count": null,
   "id": "4c66e8a6",
   "metadata": {},
   "outputs": [],
   "source": [
    "import numpy as np\n",
    "import pandas as pd\n",
    "import matplotlib.pyplot as plt\n",
    "import seaborn as sns\n",
    "from sklearn.cluster import KMeans\n",
    "from sklearn.metrics import silhouette_score, silhouette_samples"
   ]
  },
  {
   "cell_type": "markdown",
   "id": "687d6478",
   "metadata": {},
   "source": [
    "<h1><font color='green'>Load Data</font></h1>"
   ]
  },
  {
   "cell_type": "code",
   "execution_count": null,
   "id": "6111ea28",
   "metadata": {},
   "outputs": [],
   "source": [
    "# Placeholder for loading data\n",
    "data = pd.DataFrame({\n",
    "    'feature1': np.random.rand(200),\n",
    "    'feature2': np.random.rand(200),\n",
    "    'feature3': np.random.rand(200),\n",
    "    'label': np.random.randint(0, 4, 200)\n",
    "})\n",
    "data.head()"
   ]
  },
  {
   "cell_type": "markdown",
   "id": "3f82f284",
   "metadata": {},
   "source": [
    "<h1><font color='green'>Data Exploration</font></h1>"
   ]
  },
  {
   "cell_type": "code",
   "execution_count": null,
   "id": "adcfad05",
   "metadata": {},
   "outputs": [],
   "source": [
    "data.info()"
   ]
  },
  {
   "cell_type": "code",
   "execution_count": null,
   "id": "dd722b65",
   "metadata": {},
   "outputs": [],
   "source": [
    "data.describe()"
   ]
  },
  {
   "cell_type": "markdown",
   "id": "4fe59cbf",
   "metadata": {},
   "source": [
    "<h1><font color='green'>Pairplot and Correlation</font></h1>"
   ]
  },
  {
   "cell_type": "code",
   "execution_count": null,
   "id": "513361e1",
   "metadata": {},
   "outputs": [],
   "source": [
    "sns.pairplot(data, hue='label')\n",
    "plt.show()"
   ]
  },
  {
   "cell_type": "code",
   "execution_count": null,
   "id": "e3986189",
   "metadata": {},
   "outputs": [],
   "source": [
    "corr_matrix = data.corr()\n",
    "plt.figure(figsize=(10, 8))\n",
    "sns.heatmap(corr_matrix, annot=True, cmap='coolwarm')\n",
    "plt.show()"
   ]
  },
  {
   "cell_type": "markdown",
   "id": "19811099",
   "metadata": {},
   "source": [
    "<h1><font color='green'>KMeans Clustering</font></h1>"
   ]
  },
  {
   "cell_type": "code",
   "execution_count": null,
   "id": "4c859642",
   "metadata": {},
   "outputs": [],
   "source": [
    "clusters = 10\n",
    "inertias = []\n",
    "sil_scores = []\n",
    "\n",
    "for cluster in range(2, clusters+1):\n",
    "    kmeans = KMeans(n_clusters=cluster, random_state=42)\n",
    "    y_kmeans = kmeans.fit_predict(data[['feature1', 'feature2', 'feature3']])\n",
    "    inertias.append(kmeans.inertia_)\n",
    "    sil_scores.append(silhouette_score(data[['feature1', 'feature2', 'feature3']], y_kmeans))\n",
    "\n",
    "plt.figure(figsize=(12, 6))\n",
    "plt.plot(range(2, clusters+1), inertias, marker='o', linestyle='--')\n",
    "plt.xlabel('Number of clusters')\n",
    "plt.ylabel('Inertia')\n",
    "plt.title('Elbow Method')\n",
    "plt.show()\n",
    "\n",
    "plt.figure(figsize=(12, 6))\n",
    "plt.plot(range(2, clusters+1), sil_scores, marker='o', linestyle='--')\n",
    "plt.xlabel('Number of clusters')\n",
    "plt.ylabel('Silhouette Score')\n",
    "plt.title('Silhouette Method')\n",
    "plt.show()"
   ]
  },
  {
   "cell_type": "markdown",
   "id": "ede59534",
   "metadata": {},
   "source": [
    "<h1><font color='green'>Final Clustering</font></h1>"
   ]
  },
  {
   "cell_type": "code",
   "execution_count": null,
   "id": "2facc349",
   "metadata": {},
   "outputs": [],
   "source": [
    "kmeans = KMeans(n_clusters=4, random_state=42)\n",
    "data['cluster'] = kmeans.fit_predict(data[['feature1', 'feature2', 'feature3']])\n",
    "sns.scatterplot(x='feature1', y='feature2', hue='cluster', data=data, palette='viridis')\n",
    "plt.title('KMeans Clustering')\n",
    "plt.show()"
   ]
  }
 ],
 "metadata": {},
 "nbformat": 4,
 "nbformat_minor": 5
}
