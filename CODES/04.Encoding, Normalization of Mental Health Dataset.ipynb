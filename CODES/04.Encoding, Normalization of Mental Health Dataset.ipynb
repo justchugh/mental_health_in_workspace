{
 "cells": [
  {
   "cell_type": "code",
   "execution_count": null,
   "id": "6c65f141",
   "metadata": {},
   "outputs": [],
   "source": [
    "<h1><font color='green'>Libraries</font></h1>"
   ]
  },
  {
   "cell_type": "code",
   "execution_count": null,
   "id": "48266531",
   "metadata": {},
   "outputs": [],
   "source": [
    "import time\n",
    "import numpy as np\n",
    "import pandas as pd\n",
    "from matplotlib import pyplot as plt\n",
    "import seaborn as sns"
   ]
  },
  {
   "cell_type": "code",
   "execution_count": null,
   "id": "d06f6778",
   "metadata": {},
   "outputs": [],
   "source": [
    "<h1><font color='green'>Adding Style to Plots</font></h1>\n",
    "plt.style.use('seaborn-darkgrid')"
   ]
  },
  {
   "cell_type": "code",
   "execution_count": null,
   "id": "e63a86cc",
   "metadata": {},
   "outputs": [],
   "source": [
    "<h1><font color='green'>Loading Data...</font></h1>\n",
    "data = pd.read_csv('sample.csv')\n",
    "data"
   ]
  },
  {
   "cell_type": "code",
   "execution_count": null,
   "id": "c4a49484",
   "metadata": {},
   "outputs": [],
   "source": [
    "<h3><font color='red'>Function for unique object values</font></h3>"
   ]
  },
  {
   "cell_type": "code",
   "execution_count": null,
   "id": "07c69981",
   "metadata": {},
   "outputs": [],
   "source": [
    "def unique_object_values(df):\n",
    "    for col in df.columns:\n",
    "        if df[col].dtype == 'object':\n",
    "            print(col, df[col].unique())"
   ]
  },
  {
   "cell_type": "code",
   "execution_count": null,
   "id": "81f7782d",
   "metadata": {},
   "outputs": [],
   "source": [
    "<h4>Checking Data Shape</h4>\n",
    "data.shape\n",
    "data.head()"
   ]
  },
  {
   "cell_type": "code",
   "execution_count": null,
   "id": "d9134671",
   "metadata": {},
   "outputs": [],
   "source": [
    "<h3><font color='orange'>Analyzing Work Position</font></h3>"
   ]
  },
  {
   "cell_type": "code",
   "execution_count": null,
   "id": "ab3db74c",
   "metadata": {},
   "outputs": [],
   "source": [
    "<h4>Visualizing Work Position</h4>\n",
    "plt.figure(figsize=(15, 8))\n",
    "plt.xticks(rotation=90)\n",
    "sns.barplot(x=data['position'].value_counts().index, y=data['position'].value_counts().values)"
   ]
  },
  {
   "cell_type": "code",
   "execution_count": null,
   "id": "e3bfec9d",
   "metadata": {},
   "outputs": [],
   "source": [
    "<h4>Identifying Unique Professions</h4>\n",
    "position_list = data['position'].value_counts().index.tolist()"
   ]
  },
  {
   "cell_type": "code",
   "execution_count": null,
   "id": "0e9c6bab",
   "metadata": {},
   "outputs": [],
   "source": [
    "<h4>Transforming Data for Encoding</h4>\n",
    "positions = []\n",
    "for pos in data['position']:\n",
    "    positions.append(pos.split('|'))\n",
    "positions"
   ]
  },
  {
   "cell_type": "code",
   "execution_count": null,
   "id": "547b6825",
   "metadata": {},
   "outputs": [],
   "source": [
    "<h1><font color='green'>Encoding Work Position</font></h1>"
   ]
  },
  {
   "cell_type": "code",
   "execution_count": null,
   "id": "3f39f7eb",
   "metadata": {},
   "outputs": [],
   "source": [
    "<h4>Creating Encoder</h4>\n",
    "from mlxtend.preprocessing import TransactionEncoder\n",
    "te = TransactionEncoder()"
   ]
  },
  {
   "cell_type": "code",
   "execution_count": null,
   "id": "9a3f378b",
   "metadata": {},
   "outputs": [],
   "source": [
    "<h4>Transforming Data</h4>\n",
    "encoded_data = te.fit_transform(positions)\n",
    "encoded_df = pd.DataFrame(encoded_data, columns=te.columns_)\n",
    "encoded_df.head()"
   ]
  },
  {
   "cell_type": "code",
   "execution_count": null,
   "id": "8796bb65",
   "metadata": {},
   "outputs": [],
   "source": [
    "<h4>Dropping Original Column and Merging Encoded Data</h4>\n",
    "data = data.drop(columns=['position'])\n",
    "data = data.join(encoded_df)\n",
    "data.head()"
   ]
  }
 ],
 "metadata": {},
 "nbformat": 4,
 "nbformat_minor": 5
}
