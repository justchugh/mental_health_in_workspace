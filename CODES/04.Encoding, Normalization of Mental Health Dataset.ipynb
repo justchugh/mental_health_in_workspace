{
 "cells": [
  {
   "cell_type": "code",
   "execution_count": null,
   "id": "c34f1dff",
   "metadata": {},
   "outputs": [],
   "source": [
    "<h1><font color='green'>Libraries</font></h1>"
   ]
  },
  {
   "cell_type": "code",
   "execution_count": null,
   "id": "5a12de57",
   "metadata": {},
   "outputs": [],
   "source": [
    "import time\n",
    "import numpy as np\n",
    "import pandas as pd\n",
    "from matplotlib import pyplot as plt\n",
    "import seaborn as sns\n",
    "from mlxtend.preprocessing import TransactionEncoder\n",
    "from sklearn.preprocessing import OneHotEncoder"
   ]
  },
  {
   "cell_type": "code",
   "execution_count": null,
   "id": "9c88af87",
   "metadata": {},
   "outputs": [],
   "source": [
    "<h1><font color='green'>Lets add style to our plots</font></h1>\n",
    "plt.style.use('fivethirtyeight')"
   ]
  },
  {
   "cell_type": "code",
   "execution_count": null,
   "id": "7d53f963",
   "metadata": {},
   "outputs": [],
   "source": [
    "<h1><font color='green'>Loading Data...</font></h1>\n",
    "data = pd.read_csv('03.Cleaned Mental Health.csv').drop(['Unnamed: 0'], axis=1)\n",
    "data"
   ]
  },
  {
   "cell_type": "code",
   "execution_count": null,
   "id": "420165c6",
   "metadata": {},
   "outputs": [],
   "source": [
    "<h3><font color='red'>Function to find unique object values in columns</font></h3>"
   ]
  },
  {
   "cell_type": "code",
   "execution_count": null,
   "id": "27918b64",
   "metadata": {},
   "outputs": [],
   "source": [
    "def unique_object_values_in_columns(df):\n",
    "    for c in df.columns:\n",
    "        if df[c].dtype == 'object':\n",
    "            print(c, ':', df[c].unique())"
   ]
  },
  {
   "cell_type": "code",
   "execution_count": null,
   "id": "7099bd4d",
   "metadata": {},
   "outputs": [],
   "source": [
    "<h4>Check data shape</h4>\n",
    "data.shape\n",
    "data.head(5)"
   ]
  },
  {
   "cell_type": "code",
   "execution_count": null,
   "id": "89b3369c",
   "metadata": {},
   "outputs": [],
   "source": [
    "<h3><font color='orange'>Work Position Analysis</font></h3>"
   ]
  },
  {
   "cell_type": "code",
   "execution_count": null,
   "id": "1017e79c",
   "metadata": {},
   "outputs": [],
   "source": [
    "<h4>Visualizing work position distribution</h4>\n",
    "plt.figure(figsize=(12,6))\n",
    "plt.xticks(rotation=90)\n",
    "sns.barplot(data['work_position'].value_counts().index, data['work_position'].value_counts().values)"
   ]
  },
  {
   "cell_type": "code",
   "execution_count": null,
   "id": "d108755d",
   "metadata": {},
   "outputs": [],
   "source": [
    "<h4>Creating a list of unique work positions</h4>\n",
    "work_positions = data['work_position'].value_counts().index.to_list()"
   ]
  },
  {
   "cell_type": "code",
   "execution_count": null,
   "id": "7e67ebff",
   "metadata": {},
   "outputs": [],
   "source": [
    "<h4>Transforming work position data</h4>\n",
    "transformed_positions = []\n",
    "for pos in data['work_position']:\n",
    "    transformed_positions.append(pos.split('|'))\n",
    "transformed_positions"
   ]
  },
  {
   "cell_type": "code",
   "execution_count": null,
   "id": "7d836f39",
   "metadata": {},
   "outputs": [],
   "source": [
    "<h1><font color='green'>Encoding Work Positions</font></h1>"
   ]
  },
  {
   "cell_type": "code",
   "execution_count": null,
   "id": "1f400027",
   "metadata": {},
   "outputs": [],
   "source": [
    "<h4>Initializing TransactionEncoder</h4>\n",
    "te = TransactionEncoder()"
   ]
  },
  {
   "cell_type": "code",
   "execution_count": null,
   "id": "9af60aa8",
   "metadata": {},
   "outputs": [],
   "source": [
    "<h4>Applying the transformation</h4>\n",
    "encoded_positions = te.fit_transform(transformed_positions)\n",
    "encoded_df = pd.DataFrame(encoded_positions, columns=te.columns_)\n",
    "encoded_df.head(5)"
   ]
  },
  {
   "cell_type": "code",
   "execution_count": null,
   "id": "77f28792",
   "metadata": {},
   "outputs": [],
   "source": [
    "<h4>Removing the original work position column and merging encoded data</h4>\n",
    "data.drop(['work_position'], axis=1, inplace=True)\n",
    "data = data.join(encoded_df)\n",
    "data.head(5)"
   ]
  }
 ],
 "metadata": {},
 "nbformat": 4,
 "nbformat_minor": 5
}
