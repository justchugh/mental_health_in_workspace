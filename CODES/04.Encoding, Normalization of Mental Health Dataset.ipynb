{
 "cells": [
  {
   "cell_type": "code",
   "execution_count": null,
   "id": "a3ef5698",
   "metadata": {},
   "outputs": [],
   "source": [
    "<h1><font color='green'>Libraries</font></h1>"
   ]
  },
  {
   "cell_type": "code",
   "execution_count": null,
   "id": "2d5e9815",
   "metadata": {},
   "outputs": [],
   "source": [
    "import time\n",
    "import numpy as np\n",
    "import pandas as pd\n",
    "from matplotlib import pyplot as plt\n",
    "import seaborn as sns\n",
    "from mlxtend.preprocessing import TransactionEncoder\n",
    "from sklearn.preprocessing import OneHotEncoder\n",
    "from sklearn.preprocessing import LabelBinarizer"
   ]
  },
  {
   "cell_type": "code",
   "execution_count": null,
   "id": "0de58ec5",
   "metadata": {},
   "outputs": [],
   "source": [
    "<h1><font color='green'>Adding Style to Plots</font></h1>\n",
    "plt.style.use('fivethirtyeight')"
   ]
  },
  {
   "cell_type": "code",
   "execution_count": null,
   "id": "4851fb6e",
   "metadata": {},
   "outputs": [],
   "source": [
    "<h1><font color='green'>Loading Data...</font></h1>\n",
    "data = pd.read_csv('03.Cleaned Mental Health.csv').drop(['Unnamed: 0'], axis=1)\n",
    "data"
   ]
  },
  {
   "cell_type": "code",
   "execution_count": null,
   "id": "31e93aec",
   "metadata": {},
   "outputs": [],
   "source": [
    "<h3><font color='red'>Function to find unique object values in columns</font></h3>"
   ]
  },
  {
   "cell_type": "code",
   "execution_count": null,
   "id": "98a2c590",
   "metadata": {},
   "outputs": [],
   "source": [
    "def unique_object_values_in_columns(df):\n",
    "    for c in df.columns:\n",
    "        if df[c].dtype == 'object':\n",
    "            print(c, ':', df[c].unique())"
   ]
  },
  {
   "cell_type": "code",
   "execution_count": null,
   "id": "e5c37f0a",
   "metadata": {},
   "outputs": [],
   "source": [
    "<h4>Check data shape</h4>\n",
    "data.shape\n",
    "data.head(5)"
   ]
  },
  {
   "cell_type": "code",
   "execution_count": null,
   "id": "f77d6239",
   "metadata": {},
   "outputs": [],
   "source": [
    "<h3><font color='orange'>Analyzing Work Position</font></h3>"
   ]
  },
  {
   "cell_type": "code",
   "execution_count": null,
   "id": "ab33acc7",
   "metadata": {},
   "outputs": [],
   "source": [
    "<h4>Visualizing Work Position</h4>\n",
    "plt.figure(figsize=(15, 8))\n",
    "plt.xticks(rotation=90)\n",
    "sns.barplot(data['work_position'].value_counts().index, data['work_position'].value_counts().values)"
   ]
  },
  {
   "cell_type": "code",
   "execution_count": null,
   "id": "b0ed9448",
   "metadata": {},
   "outputs": [],
   "source": [
    "<h4>Creating a list of unique professions</h4>\n",
    "work_position_list = data['work_position'].value_counts().index.to_list()"
   ]
  },
  {
   "cell_type": "code",
   "execution_count": null,
   "id": "bcec2e7e",
   "metadata": {},
   "outputs": [],
   "source": [
    "<h4>Transforming Work Position Data</h4>\n",
    "positions = []\n",
    "for pos in data['work_position']:\n",
    "    positions.append(pos.split('|'))\n",
    "positions"
   ]
  },
  {
   "cell_type": "code",
   "execution_count": null,
   "id": "4dad32d2",
   "metadata": {},
   "outputs": [],
   "source": [
    "<h1><font color='green'>Encoding Work Positions</font></h1>"
   ]
  },
  {
   "cell_type": "code",
   "execution_count": null,
   "id": "99496ebf",
   "metadata": {},
   "outputs": [],
   "source": [
    "<h4>Creating TransactionEncoder Object</h4>\n",
    "te = TransactionEncoder()"
   ]
  },
  {
   "cell_type": "code",
   "execution_count": null,
   "id": "8400555d",
   "metadata": {},
   "outputs": [],
   "source": [
    "<h4>Transforming Data</h4>\n",
    "encoded_positions = te.fit_transform(positions)\n",
    "encoded_df = pd.DataFrame(encoded_positions, columns=te.columns_)\n",
    "encoded_df.head(5)"
   ]
  },
  {
   "cell_type": "code",
   "execution_count": null,
   "id": "7d1ce976",
   "metadata": {},
   "outputs": [],
   "source": [
    "<h4>Removing Original Column and Merging Encoded Data</h4>\n",
    "data = data.drop(columns=['work_position'])\n",
    "data = data.join(encoded_df)\n",
    "data.head(5)"
   ]
  },
  {
   "cell_type": "code",
   "execution_count": null,
   "id": "30bfba6e",
   "metadata": {},
   "outputs": [],
   "source": [
    "<h1><font color='green'>One Hot Encoding on country_live</font></h1>"
   ]
  },
  {
   "cell_type": "code",
   "execution_count": null,
   "id": "45a6ca63",
   "metadata": {},
   "outputs": [],
   "source": [
    "<h4>Creating OneHotEncoder Object</h4>\n",
    "ohe = OneHotEncoder(sparse=False)"
   ]
  },
  {
   "cell_type": "code",
   "execution_count": null,
   "id": "ab2ace2f",
   "metadata": {},
   "outputs": [],
   "source": [
    "<h4>Transforming Data</h4>\n",
    "country_live_encoded = ohe.fit_transform(data[['country_live']])\n",
    "country_live_df = pd.DataFrame(country_live_encoded, columns=[f'live_in_{cat}' for cat in ohe.categories_[0]])\n",
    "country_live_df.head(5)"
   ]
  },
  {
   "cell_type": "code",
   "execution_count": null,
   "id": "91b98bb9",
   "metadata": {},
   "outputs": [],
   "source": [
    "<h4>Dropping Original Column and Merging Encoded Data</h4>\n",
    "data = data.drop(columns=['country_live'])\n",
    "data = data.join(country_live_df)\n",
    "data.head(5)"
   ]
  }
 ],
 "metadata": {},
 "nbformat": 4,
 "nbformat_minor": 5
}
