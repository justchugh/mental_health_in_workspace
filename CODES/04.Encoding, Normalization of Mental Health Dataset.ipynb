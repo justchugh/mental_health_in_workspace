{
 "cells": [
  {
   "cell_type": "code",
   "execution_count": null,
   "id": "29cc36c8",
   "metadata": {},
   "outputs": [],
   "source": [
    "<h1><font color='green'>Libraries</font></h1>"
   ]
  },
  {
   "cell_type": "code",
   "execution_count": null,
   "id": "55bd6aed",
   "metadata": {},
   "outputs": [],
   "source": [
    "import time\n",
    "import numpy as np\n",
    "import pandas as pd\n",
    "from matplotlib import pyplot as plt\n",
    "import seaborn as sns\n",
    "from mlxtend.preprocessing import TransactionEncoder\n",
    "from sklearn.preprocessing import OneHotEncoder\n",
    "from sklearn.preprocessing import LabelBinarizer\n",
    "from sklearn.impute import SimpleImputer\n",
    "from sklearn.preprocessing import StandardScaler\n",
    "from sklearn.preprocessing import MinMaxScaler"
   ]
  },
  {
   "cell_type": "code",
   "execution_count": null,
   "id": "d3d1692f",
   "metadata": {},
   "outputs": [],
   "source": [
    "<h1><font color='green'>Adding Style to Plots</font></h1>\n",
    "plt.style.use('fivethirtyeight')"
   ]
  },
  {
   "cell_type": "code",
   "execution_count": null,
   "id": "f8f39ed5",
   "metadata": {},
   "outputs": [],
   "source": [
    "<h1><font color='green'>Loading Data...</font></h1>\n",
    "data = pd.read_csv('03.Cleaned Mental Health.csv').drop(['Unnamed: 0'], axis=1)\n",
    "data"
   ]
  },
  {
   "cell_type": "code",
   "execution_count": null,
   "id": "0779df98",
   "metadata": {},
   "outputs": [],
   "source": [
    "<h3><font color='red'>Function to find unique object values in columns</font></h3>"
   ]
  },
  {
   "cell_type": "code",
   "execution_count": null,
   "id": "0dcad519",
   "metadata": {},
   "outputs": [],
   "source": [
    "def unique_object_values_in_columns(df):\n",
    "    for c in df.columns:\n",
    "        if df[c].dtype == 'object':\n",
    "            print(c, ':', df[c].unique())"
   ]
  },
  {
   "cell_type": "code",
   "execution_count": null,
   "id": "9abedc5d",
   "metadata": {},
   "outputs": [],
   "source": [
    "<h4>Check data shape</h4>\n",
    "data.shape\n",
    "data.head(5)"
   ]
  },
  {
   "cell_type": "code",
   "execution_count": null,
   "id": "1a4bc65a",
   "metadata": {},
   "outputs": [],
   "source": [
    "<h3><font color='orange'>Analyzing Work Position</font></h3>"
   ]
  },
  {
   "cell_type": "code",
   "execution_count": null,
   "id": "da1d60c3",
   "metadata": {},
   "outputs": [],
   "source": [
    "<h4>Visualizing Work Position</h4>\n",
    "plt.figure(figsize=(15, 8))\n",
    "plt.xticks(rotation=90)\n",
    "sns.barplot(data['work_position'].value_counts().index, data['work_position'].value_counts().values)"
   ]
  },
  {
   "cell_type": "code",
   "execution_count": null,
   "id": "c1453a24",
   "metadata": {},
   "outputs": [],
   "source": [
    "<h4>Creating a list of unique professions</h4>\n",
    "work_position_list = data['work_position'].value_counts().index.to_list()"
   ]
  },
  {
   "cell_type": "code",
   "execution_count": null,
   "id": "bfbabd6a",
   "metadata": {},
   "outputs": [],
   "source": [
    "<h4>Transforming Work Position Data</h4>\n",
    "positions = []\n",
    "for pos in data['work_position']:\n",
    "    positions.append(pos.split('|'))\n",
    "positions"
   ]
  },
  {
   "cell_type": "code",
   "execution_count": null,
   "id": "84a3e20a",
   "metadata": {},
   "outputs": [],
   "source": [
    "<h1><font color='green'>Encoding Work Positions</font></h1>"
   ]
  },
  {
   "cell_type": "code",
   "execution_count": null,
   "id": "060cd725",
   "metadata": {},
   "outputs": [],
   "source": [
    "<h4>Creating TransactionEncoder Object</h4>\n",
    "te = TransactionEncoder()"
   ]
  },
  {
   "cell_type": "code",
   "execution_count": null,
   "id": "0d8cabe2",
   "metadata": {},
   "outputs": [],
   "source": [
    "<h4>Transforming Data</h4>\n",
    "encoded_positions = te.fit_transform(positions)\n",
    "encoded_df = pd.DataFrame(encoded_positions, columns=te.columns_)\n",
    "encoded_df.head(5)"
   ]
  },
  {
   "cell_type": "code",
   "execution_count": null,
   "id": "fe2db38f",
   "metadata": {},
   "outputs": [],
   "source": [
    "<h4>Removing Original Column and Merging Encoded Data</h4>\n",
    "data = data.drop(columns=['work_position'])\n",
    "data = data.join(encoded_df)\n",
    "data.head(5)"
   ]
  },
  {
   "cell_type": "code",
   "execution_count": null,
   "id": "ed6cc983",
   "metadata": {},
   "outputs": [],
   "source": [
    "<h1><font color='green'>One Hot Encoding on country_live</font></h1>"
   ]
  },
  {
   "cell_type": "code",
   "execution_count": null,
   "id": "5bbd0f9e",
   "metadata": {},
   "outputs": [],
   "source": [
    "<h4>Creating OneHotEncoder Object</h4>\n",
    "ohe = OneHotEncoder(sparse=False)"
   ]
  },
  {
   "cell_type": "code",
   "execution_count": null,
   "id": "00e32502",
   "metadata": {},
   "outputs": [],
   "source": [
    "<h4>Transforming Data</h4>\n",
    "country_live_encoded = ohe.fit_transform(data[['country_live']])\n",
    "country_live_df = pd.DataFrame(country_live_encoded, columns=[f'live_in_{cat}' for cat in ohe.categories_[0]])\n",
    "country_live_df.head(5)"
   ]
  },
  {
   "cell_type": "code",
   "execution_count": null,
   "id": "bdc9596c",
   "metadata": {},
   "outputs": [],
   "source": [
    "<h4>Dropping Original Column and Merging Encoded Data</h4>\n",
    "data = data.drop(columns=['country_live'])\n",
    "data = data.join(country_live_df)\n",
    "data.head(5)"
   ]
  },
  {
   "cell_type": "code",
   "execution_count": null,
   "id": "cc47be3c",
   "metadata": {},
   "outputs": [],
   "source": [
    "<h1><font color='green'>Label Binarizer on country_work</font></h1>"
   ]
  },
  {
   "cell_type": "code",
   "execution_count": null,
   "id": "bceb4aef",
   "metadata": {},
   "outputs": [],
   "source": [
    "<h4>Creating LabelBinarizer Object</h4>\n",
    "lb = LabelBinarizer()"
   ]
  },
  {
   "cell_type": "code",
   "execution_count": null,
   "id": "3ed344f1",
   "metadata": {},
   "outputs": [],
   "source": [
    "<h4>Transforming Data</h4>\n",
    "country_work_encoded = lb.fit_transform(data['country_work'])\n",
    "country_work_df = pd.DataFrame(country_work_encoded, columns=[f'work_at_{cat}' for cat in lb.classes_])\n",
    "country_work_df.head(5)"
   ]
  },
  {
   "cell_type": "code",
   "execution_count": null,
   "id": "69b2eb2d",
   "metadata": {},
   "outputs": [],
   "source": [
    "<h4>Dropping Original Column and Merging Encoded Data</h4>\n",
    "data = data.drop(columns=['country_work'])\n",
    "data = data.join(country_work_df)\n",
    "data.head(5)"
   ]
  },
  {
   "cell_type": "code",
   "execution_count": null,
   "id": "58128b2a",
   "metadata": {},
   "outputs": [],
   "source": [
    "<h1><font color='green'>Handling Missing Values with Simple Imputer</font></h1>"
   ]
  },
  {
   "cell_type": "code",
   "execution_count": null,
   "id": "53581328",
   "metadata": {},
   "outputs": [],
   "source": [
    "<h4>Checking for Missing Values</h4>\n",
    "data.isnull().sum()"
   ]
  },
  {
   "cell_type": "code",
   "execution_count": null,
   "id": "0fbf8ec3",
   "metadata": {},
   "outputs": [],
   "source": [
    "<h4>Visualizing Missing Values</h4>\n",
    "plt.figure(figsize=(12,8))\n",
    "sns.heatmap(data.isnull())"
   ]
  },
  {
   "cell_type": "code",
   "execution_count": null,
   "id": "0458770a",
   "metadata": {},
   "outputs": [],
   "source": [
    "<h4>Creating SimpleImputer Object and Transforming Data</h4>\n",
    "si = SimpleImputer(strategy='most_frequent')\n",
    "data = pd.DataFrame(si.fit_transform(data), columns=data.columns)"
   ]
  },
  {
   "cell_type": "code",
   "execution_count": null,
   "id": "377fc306",
   "metadata": {},
   "outputs": [],
   "source": [
    "<h4>Checking for Missing Values Again</h4>\n",
    "plt.figure(figsize=(12,8))\n",
    "sns.heatmap(data.isnull())\n",
    "data.isnull().sum()"
   ]
  },
  {
   "cell_type": "code",
   "execution_count": null,
   "id": "f9a1c1c4",
   "metadata": {},
   "outputs": [],
   "source": [
    "<h1><font color='green'>StandardScaler Normalization</font></h1>"
   ]
  },
  {
   "cell_type": "code",
   "execution_count": null,
   "id": "de8416d9",
   "metadata": {},
   "outputs": [],
   "source": [
    "<h4>Creating StandardScaler Object</h4>\n",
    "ss = StandardScaler()"
   ]
  },
  {
   "cell_type": "code",
   "execution_count": null,
   "id": "ecd66a61",
   "metadata": {},
   "outputs": [],
   "source": [
    "<h4>Applying StandardScaler</h4>\n",
    "data['comp_no_empl'] = ss.fit_transform(data[['comp_no_empl']])"
   ]
  },
  {
   "cell_type": "code",
   "execution_count": null,
   "id": "771784b4",
   "metadata": {},
   "outputs": [],
   "source": [
    "<h1><font color='green'>MinMaxScaler Normalization</font></h1>"
   ]
  },
  {
   "cell_type": "code",
   "execution_count": null,
   "id": "a6b471ea",
   "metadata": {},
   "outputs": [],
   "source": [
    "<h4>Creating MinMaxScaler Object</h4>\n",
    "mms = MinMaxScaler()"
   ]
  },
  {
   "cell_type": "code",
   "execution_count": null,
   "id": "6c3f7adf",
   "metadata": {},
   "outputs": [],
   "source": [
    "<h4>Applying MinMaxScaler</h4>\n",
    "data['age'] = mms.fit_transform(data[['age']])"
   ]
  },
  {
   "cell_type": "code",
   "execution_count": null,
   "id": "1021f335",
   "metadata": {},
   "outputs": [],
   "source": [
    "<h4>Saving the Cleaned Data</h4>\n",
    "data.to_csv('05.Normalized Mental Health.csv')"
   ]
  }
 ],
 "metadata": {},
 "nbformat": 4,
 "nbformat_minor": 5
}
