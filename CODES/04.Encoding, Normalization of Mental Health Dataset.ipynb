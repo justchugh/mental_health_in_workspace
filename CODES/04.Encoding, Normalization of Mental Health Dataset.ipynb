{
 "cells": [
  {
   "cell_type": "code",
   "execution_count": null,
   "id": "9cae7985",
   "metadata": {},
   "outputs": [],
   "source": [
    "<h1><font color='green'>Libraries</font></h1>"
   ]
  },
  {
   "cell_type": "code",
   "execution_count": null,
   "id": "69c942d4",
   "metadata": {},
   "outputs": [],
   "source": [
    "import time\n",
    "import numpy as np\n",
    "import pandas as pd\n",
    "from matplotlib import pyplot as plt\n",
    "import seaborn as sns\n",
    "from mlxtend.preprocessing import TransactionEncoder\n",
    "from sklearn.preprocessing import OneHotEncoder\n",
    "from sklearn.preprocessing import LabelBinarizer\n",
    "from sklearn.impute import SimpleImputer"
   ]
  },
  {
   "cell_type": "code",
   "execution_count": null,
   "id": "c39f9b49",
   "metadata": {},
   "outputs": [],
   "source": [
    "<h1><font color='green'>Adding Style to Plots</font></h1>\n",
    "plt.style.use('fivethirtyeight')"
   ]
  },
  {
   "cell_type": "code",
   "execution_count": null,
   "id": "f9caeadd",
   "metadata": {},
   "outputs": [],
   "source": [
    "<h1><font color='green'>Loading Data...</font></h1>\n",
    "data = pd.read_csv('03.Cleaned Mental Health.csv').drop(['Unnamed: 0'], axis=1)\n",
    "data"
   ]
  },
  {
   "cell_type": "code",
   "execution_count": null,
   "id": "62140ebf",
   "metadata": {},
   "outputs": [],
   "source": [
    "<h3><font color='red'>Function to find unique object values in columns</font></h3>"
   ]
  },
  {
   "cell_type": "code",
   "execution_count": null,
   "id": "dced6f91",
   "metadata": {},
   "outputs": [],
   "source": [
    "def unique_object_values_in_columns(df):\n",
    "    for c in df.columns:\n",
    "        if df[c].dtype == 'object':\n",
    "            print(c, ':', df[c].unique())"
   ]
  },
  {
   "cell_type": "code",
   "execution_count": null,
   "id": "7a0bcf11",
   "metadata": {},
   "outputs": [],
   "source": [
    "<h4>Check data shape</h4>\n",
    "data.shape\n",
    "data.head(5)"
   ]
  },
  {
   "cell_type": "code",
   "execution_count": null,
   "id": "4f05f86c",
   "metadata": {},
   "outputs": [],
   "source": [
    "<h3><font color='orange'>Analyzing Work Position</font></h3>"
   ]
  },
  {
   "cell_type": "code",
   "execution_count": null,
   "id": "c570a923",
   "metadata": {},
   "outputs": [],
   "source": [
    "<h4>Visualizing Work Position</h4>\n",
    "plt.figure(figsize=(15, 8))\n",
    "plt.xticks(rotation=90)\n",
    "sns.barplot(data['work_position'].value_counts().index, data['work_position'].value_counts().values)"
   ]
  },
  {
   "cell_type": "code",
   "execution_count": null,
   "id": "456992d0",
   "metadata": {},
   "outputs": [],
   "source": [
    "<h4>Creating a list of unique professions</h4>\n",
    "work_position_list = data['work_position'].value_counts().index.to_list()"
   ]
  },
  {
   "cell_type": "code",
   "execution_count": null,
   "id": "a72c6882",
   "metadata": {},
   "outputs": [],
   "source": [
    "<h4>Transforming Work Position Data</h4>\n",
    "positions = []\n",
    "for pos in data['work_position']:\n",
    "    positions.append(pos.split('|'))\n",
    "positions"
   ]
  },
  {
   "cell_type": "code",
   "execution_count": null,
   "id": "0e3be04c",
   "metadata": {},
   "outputs": [],
   "source": [
    "<h1><font color='green'>Encoding Work Positions</font></h1>"
   ]
  },
  {
   "cell_type": "code",
   "execution_count": null,
   "id": "00a798b0",
   "metadata": {},
   "outputs": [],
   "source": [
    "<h4>Creating TransactionEncoder Object</h4>\n",
    "te = TransactionEncoder()"
   ]
  },
  {
   "cell_type": "code",
   "execution_count": null,
   "id": "beb4e663",
   "metadata": {},
   "outputs": [],
   "source": [
    "<h4>Transforming Data</h4>\n",
    "encoded_positions = te.fit_transform(positions)\n",
    "encoded_df = pd.DataFrame(encoded_positions, columns=te.columns_)\n",
    "encoded_df.head(5)"
   ]
  },
  {
   "cell_type": "code",
   "execution_count": null,
   "id": "06a89900",
   "metadata": {},
   "outputs": [],
   "source": [
    "<h4>Removing Original Column and Merging Encoded Data</h4>\n",
    "data = data.drop(columns=['work_position'])\n",
    "data = data.join(encoded_df)\n",
    "data.head(5)"
   ]
  },
  {
   "cell_type": "code",
   "execution_count": null,
   "id": "5799f966",
   "metadata": {},
   "outputs": [],
   "source": [
    "<h1><font color='green'>One Hot Encoding on country_live</font></h1>"
   ]
  },
  {
   "cell_type": "code",
   "execution_count": null,
   "id": "1dd17352",
   "metadata": {},
   "outputs": [],
   "source": [
    "<h4>Creating OneHotEncoder Object</h4>\n",
    "ohe = OneHotEncoder(sparse=False)"
   ]
  },
  {
   "cell_type": "code",
   "execution_count": null,
   "id": "6a41452a",
   "metadata": {},
   "outputs": [],
   "source": [
    "<h4>Transforming Data</h4>\n",
    "country_live_encoded = ohe.fit_transform(data[['country_live']])\n",
    "country_live_df = pd.DataFrame(country_live_encoded, columns=[f'live_in_{cat}' for cat in ohe.categories_[0]])\n",
    "country_live_df.head(5)"
   ]
  },
  {
   "cell_type": "code",
   "execution_count": null,
   "id": "27e1e6b8",
   "metadata": {},
   "outputs": [],
   "source": [
    "<h4>Dropping Original Column and Merging Encoded Data</h4>\n",
    "data = data.drop(columns=['country_live'])\n",
    "data = data.join(country_live_df)\n",
    "data.head(5)"
   ]
  },
  {
   "cell_type": "code",
   "execution_count": null,
   "id": "c1d39856",
   "metadata": {},
   "outputs": [],
   "source": [
    "<h1><font color='green'>Label Binarizer on country_work</font></h1>"
   ]
  },
  {
   "cell_type": "code",
   "execution_count": null,
   "id": "3a235451",
   "metadata": {},
   "outputs": [],
   "source": [
    "<h4>Creating LabelBinarizer Object</h4>\n",
    "lb = LabelBinarizer()"
   ]
  },
  {
   "cell_type": "code",
   "execution_count": null,
   "id": "987cfa9d",
   "metadata": {},
   "outputs": [],
   "source": [
    "<h4>Transforming Data</h4>\n",
    "country_work_encoded = lb.fit_transform(data['country_work'])\n",
    "country_work_df = pd.DataFrame(country_work_encoded, columns=[f'work_at_{cat}' for cat in lb.classes_])\n",
    "country_work_df.head(5)"
   ]
  },
  {
   "cell_type": "code",
   "execution_count": null,
   "id": "54580c0f",
   "metadata": {},
   "outputs": [],
   "source": [
    "<h4>Dropping Original Column and Merging Encoded Data</h4>\n",
    "data = data.drop(columns=['country_work'])\n",
    "data = data.join(country_work_df)\n",
    "data.head(5)"
   ]
  },
  {
   "cell_type": "code",
   "execution_count": null,
   "id": "cb8d9a21",
   "metadata": {},
   "outputs": [],
   "source": [
    "<h1><font color='green'>Handling Missing Values with Simple Imputer</font></h1>"
   ]
  },
  {
   "cell_type": "code",
   "execution_count": null,
   "id": "57b635b1",
   "metadata": {},
   "outputs": [],
   "source": [
    "<h4>Checking for Missing Values</h4>\n",
    "data.isnull().sum()"
   ]
  },
  {
   "cell_type": "code",
   "execution_count": null,
   "id": "2bd35245",
   "metadata": {},
   "outputs": [],
   "source": [
    "<h4>Visualizing Missing Values</h4>\n",
    "plt.figure(figsize=(12,8))\n",
    "sns.heatmap(data.isnull())"
   ]
  },
  {
   "cell_type": "code",
   "execution_count": null,
   "id": "f0f03396",
   "metadata": {},
   "outputs": [],
   "source": [
    "<h4>Creating SimpleImputer Object and Transforming Data</h4>\n",
    "si = SimpleImputer(strategy='most_frequent')\n",
    "data = pd.DataFrame(si.fit_transform(data), columns=data.columns)"
   ]
  },
  {
   "cell_type": "code",
   "execution_count": null,
   "id": "e837fa52",
   "metadata": {},
   "outputs": [],
   "source": [
    "<h4>Checking for Missing Values Again</h4>\n",
    "plt.figure(figsize=(12,8))\n",
    "sns.heatmap(data.isnull())\n",
    "data.isnull().sum()"
   ]
  }
 ],
 "metadata": {},
 "nbformat": 4,
 "nbformat_minor": 5
}
